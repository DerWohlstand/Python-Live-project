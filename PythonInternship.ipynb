{
 "cells": [
  {
   "cell_type": "code",
   "execution_count": 2,
   "id": "2f943adf",
   "metadata": {},
   "outputs": [],
   "source": [
    "import pandas as pd\n",
    "import matplotlib.pyplot as plt\n",
    "import seaborn as sns"
   ]
  },
  {
   "cell_type": "code",
   "execution_count": 3,
   "id": "df93d827",
   "metadata": {},
   "outputs": [],
   "source": [
    "#pip install seaborn"
   ]
  },
  {
   "cell_type": "code",
   "execution_count": 4,
   "id": "f2e34ad9",
   "metadata": {},
   "outputs": [],
   "source": [
    "#pip install openpyxl"
   ]
  },
  {
   "cell_type": "code",
   "execution_count": 36,
   "id": "e3d440e5",
   "metadata": {},
   "outputs": [
    {
     "data": {
      "text/html": [
       "<div>\n",
       "<style scoped>\n",
       "    .dataframe tbody tr th:only-of-type {\n",
       "        vertical-align: middle;\n",
       "    }\n",
       "\n",
       "    .dataframe tbody tr th {\n",
       "        vertical-align: top;\n",
       "    }\n",
       "\n",
       "    .dataframe thead th {\n",
       "        text-align: right;\n",
       "    }\n",
       "</style>\n",
       "<table border=\"1\" class=\"dataframe\">\n",
       "  <thead>\n",
       "    <tr style=\"text-align: right;\">\n",
       "      <th></th>\n",
       "      <th>First Name</th>\n",
       "      <th>Email ID</th>\n",
       "      <th>Quantity</th>\n",
       "      <th>Events</th>\n",
       "      <th>Attendee Status</th>\n",
       "      <th>College Name</th>\n",
       "      <th>How did you come to know about this event?</th>\n",
       "      <th>Specify in \"Others\" (how did you come to know about this event)</th>\n",
       "      <th>Designation</th>\n",
       "      <th>Year of Graduation</th>\n",
       "      <th>City</th>\n",
       "      <th>CGPA</th>\n",
       "      <th>Experience with python (Months)</th>\n",
       "      <th>Family Income</th>\n",
       "      <th>Expected salary (Lac)</th>\n",
       "      <th>Leadership- skills</th>\n",
       "      <th>GPA</th>\n",
       "    </tr>\n",
       "  </thead>\n",
       "  <tbody>\n",
       "    <tr>\n",
       "      <th>0</th>\n",
       "      <td>Shraddha</td>\n",
       "      <td>shraddha@xyz.com</td>\n",
       "      <td>1</td>\n",
       "      <td>Art of Resume Building</td>\n",
       "      <td>NAN</td>\n",
       "      <td>Vidyalankar Institute of Technology, Mumbai</td>\n",
       "      <td>Email</td>\n",
       "      <td>NaN</td>\n",
       "      <td>Students</td>\n",
       "      <td>2025</td>\n",
       "      <td>Orchha</td>\n",
       "      <td>7.9</td>\n",
       "      <td>7</td>\n",
       "      <td>0-2 Lakh</td>\n",
       "      <td>24</td>\n",
       "      <td>no</td>\n",
       "      <td>3.16</td>\n",
       "    </tr>\n",
       "    <tr>\n",
       "      <th>1</th>\n",
       "      <td>Pratiksha</td>\n",
       "      <td>pratiksha@xyz.com</td>\n",
       "      <td>1</td>\n",
       "      <td>Art of Resume Building</td>\n",
       "      <td>NAN</td>\n",
       "      <td>ADHIYAMAAN COLLEGE OF ENGINEERING</td>\n",
       "      <td>Whatsapp</td>\n",
       "      <td>NaN</td>\n",
       "      <td>Students</td>\n",
       "      <td>2026</td>\n",
       "      <td>Ujjain</td>\n",
       "      <td>7.7</td>\n",
       "      <td>7</td>\n",
       "      <td>0-2 Lakh</td>\n",
       "      <td>21</td>\n",
       "      <td>no</td>\n",
       "      <td>3.08</td>\n",
       "    </tr>\n",
       "    <tr>\n",
       "      <th>2</th>\n",
       "      <td>Vaishnavi</td>\n",
       "      <td>vaishnavi@xyz.com</td>\n",
       "      <td>1</td>\n",
       "      <td>Art of Resume Building</td>\n",
       "      <td>NAN</td>\n",
       "      <td>DKTE Society's Textile And Engineering Institu...</td>\n",
       "      <td>Email</td>\n",
       "      <td>NaN</td>\n",
       "      <td>Students</td>\n",
       "      <td>2025</td>\n",
       "      <td>Agartala</td>\n",
       "      <td>7.1</td>\n",
       "      <td>3</td>\n",
       "      <td>0-2 Lakh</td>\n",
       "      <td>20</td>\n",
       "      <td>yes</td>\n",
       "      <td>2.84</td>\n",
       "    </tr>\n",
       "    <tr>\n",
       "      <th>3</th>\n",
       "      <td>Vishal</td>\n",
       "      <td>vishal@xyz.com</td>\n",
       "      <td>1</td>\n",
       "      <td>Art of Resume Building</td>\n",
       "      <td>NAN</td>\n",
       "      <td>St.Francis Institute of Technology</td>\n",
       "      <td>Youtube | Facebook</td>\n",
       "      <td>NaN</td>\n",
       "      <td>Students</td>\n",
       "      <td>2023</td>\n",
       "      <td>Palashi</td>\n",
       "      <td>7.3</td>\n",
       "      <td>4</td>\n",
       "      <td>0-2 Lakh</td>\n",
       "      <td>21</td>\n",
       "      <td>no</td>\n",
       "      <td>2.92</td>\n",
       "    </tr>\n",
       "    <tr>\n",
       "      <th>4</th>\n",
       "      <td>Bhushan</td>\n",
       "      <td>bhushan@xyz.com</td>\n",
       "      <td>1</td>\n",
       "      <td>Data Visualization using Power BI</td>\n",
       "      <td>NAN</td>\n",
       "      <td>priyadarshini college of engineering, nagpur</td>\n",
       "      <td>NaN</td>\n",
       "      <td>NaN</td>\n",
       "      <td>Students</td>\n",
       "      <td>2024</td>\n",
       "      <td>Bhandara</td>\n",
       "      <td>6.7</td>\n",
       "      <td>3</td>\n",
       "      <td>0-2 Lakh</td>\n",
       "      <td>9</td>\n",
       "      <td>no</td>\n",
       "      <td>2.68</td>\n",
       "    </tr>\n",
       "    <tr>\n",
       "      <th>...</th>\n",
       "      <td>...</td>\n",
       "      <td>...</td>\n",
       "      <td>...</td>\n",
       "      <td>...</td>\n",
       "      <td>...</td>\n",
       "      <td>...</td>\n",
       "      <td>...</td>\n",
       "      <td>...</td>\n",
       "      <td>...</td>\n",
       "      <td>...</td>\n",
       "      <td>...</td>\n",
       "      <td>...</td>\n",
       "      <td>...</td>\n",
       "      <td>...</td>\n",
       "      <td>...</td>\n",
       "      <td>...</td>\n",
       "      <td>...</td>\n",
       "    </tr>\n",
       "    <tr>\n",
       "      <th>4889</th>\n",
       "      <td>Patel Niraj</td>\n",
       "      <td>patelniraj@xyz.com</td>\n",
       "      <td>1</td>\n",
       "      <td>The SDLC &amp; their transformations</td>\n",
       "      <td>Attending</td>\n",
       "      <td>thakur institute of management studies, career...</td>\n",
       "      <td>LinkedIn | Whatsapp | Email</td>\n",
       "      <td>NaN</td>\n",
       "      <td>Students</td>\n",
       "      <td>2024</td>\n",
       "      <td>Jodhpur</td>\n",
       "      <td>6.9</td>\n",
       "      <td>6</td>\n",
       "      <td>0-2 Lakh</td>\n",
       "      <td>15</td>\n",
       "      <td>yes</td>\n",
       "      <td>2.76</td>\n",
       "    </tr>\n",
       "    <tr>\n",
       "      <th>4890</th>\n",
       "      <td>VIDIT</td>\n",
       "      <td>vidit@xyz.com</td>\n",
       "      <td>1</td>\n",
       "      <td>Data Visualization using Power BI</td>\n",
       "      <td>Attending</td>\n",
       "      <td>government polytechnic gandhinagar</td>\n",
       "      <td>NaN</td>\n",
       "      <td>NaN</td>\n",
       "      <td>Students</td>\n",
       "      <td>2023</td>\n",
       "      <td>Jalgaon</td>\n",
       "      <td>6.5</td>\n",
       "      <td>6</td>\n",
       "      <td>0-2 Lakh</td>\n",
       "      <td>8</td>\n",
       "      <td>no</td>\n",
       "      <td>2.60</td>\n",
       "    </tr>\n",
       "    <tr>\n",
       "      <th>4891</th>\n",
       "      <td>Suryaprakash</td>\n",
       "      <td>suryaprakash@xyz.com</td>\n",
       "      <td>1</td>\n",
       "      <td>Data Visualization using Power BI</td>\n",
       "      <td>Attending</td>\n",
       "      <td>vishwakarma institute of technology, pune</td>\n",
       "      <td>NaN</td>\n",
       "      <td>NaN</td>\n",
       "      <td>Students</td>\n",
       "      <td>2024</td>\n",
       "      <td>Thane</td>\n",
       "      <td>6.9</td>\n",
       "      <td>5</td>\n",
       "      <td>0-2 Lakh</td>\n",
       "      <td>7</td>\n",
       "      <td>no</td>\n",
       "      <td>2.76</td>\n",
       "    </tr>\n",
       "    <tr>\n",
       "      <th>4892</th>\n",
       "      <td>Saif ali</td>\n",
       "      <td>saifali@xyz.com</td>\n",
       "      <td>1</td>\n",
       "      <td>Data Visualization using Power BI</td>\n",
       "      <td>Attending</td>\n",
       "      <td>mit academy of engineering ,alandi</td>\n",
       "      <td>NaN</td>\n",
       "      <td>NaN</td>\n",
       "      <td>Students</td>\n",
       "      <td>2024</td>\n",
       "      <td>Patiala</td>\n",
       "      <td>9.0</td>\n",
       "      <td>3</td>\n",
       "      <td>0-2 Lakh</td>\n",
       "      <td>23</td>\n",
       "      <td>yes</td>\n",
       "      <td>3.60</td>\n",
       "    </tr>\n",
       "    <tr>\n",
       "      <th>4893</th>\n",
       "      <td>Lankesh</td>\n",
       "      <td>lankesh@xyz.com</td>\n",
       "      <td>1</td>\n",
       "      <td>Data Visualization using Power BI</td>\n",
       "      <td>Attending</td>\n",
       "      <td>a. c. patil college of engineering</td>\n",
       "      <td>NaN</td>\n",
       "      <td>NaN</td>\n",
       "      <td>Students</td>\n",
       "      <td>2025</td>\n",
       "      <td>Sangrur</td>\n",
       "      <td>7.2</td>\n",
       "      <td>8</td>\n",
       "      <td>0-2 Lakh</td>\n",
       "      <td>9</td>\n",
       "      <td>yes</td>\n",
       "      <td>2.88</td>\n",
       "    </tr>\n",
       "  </tbody>\n",
       "</table>\n",
       "<p>4894 rows × 17 columns</p>\n",
       "</div>"
      ],
      "text/plain": [
       "        First Name              Email ID  Quantity   \n",
       "0        Shraddha       shraddha@xyz.com         1  \\\n",
       "1        Pratiksha     pratiksha@xyz.com         1   \n",
       "2        Vaishnavi     vaishnavi@xyz.com         1   \n",
       "3           Vishal        vishal@xyz.com         1   \n",
       "4          Bhushan       bhushan@xyz.com         1   \n",
       "...            ...                   ...       ...   \n",
       "4889   Patel Niraj    patelniraj@xyz.com         1   \n",
       "4890         VIDIT         vidit@xyz.com         1   \n",
       "4891  Suryaprakash  suryaprakash@xyz.com         1   \n",
       "4892      Saif ali       saifali@xyz.com         1   \n",
       "4893       Lankesh       lankesh@xyz.com         1   \n",
       "\n",
       "                                 Events Attendee Status   \n",
       "0                Art of Resume Building             NAN  \\\n",
       "1                Art of Resume Building             NAN   \n",
       "2                Art of Resume Building             NAN   \n",
       "3                Art of Resume Building             NAN   \n",
       "4     Data Visualization using Power BI             NAN   \n",
       "...                                 ...             ...   \n",
       "4889   The SDLC & their transformations       Attending   \n",
       "4890  Data Visualization using Power BI       Attending   \n",
       "4891  Data Visualization using Power BI       Attending   \n",
       "4892  Data Visualization using Power BI       Attending   \n",
       "4893  Data Visualization using Power BI       Attending   \n",
       "\n",
       "                                           College Name   \n",
       "0           Vidyalankar Institute of Technology, Mumbai  \\\n",
       "1                     ADHIYAMAAN COLLEGE OF ENGINEERING   \n",
       "2     DKTE Society's Textile And Engineering Institu...   \n",
       "3                    St.Francis Institute of Technology   \n",
       "4         priyadarshini college of engineering, nagpur    \n",
       "...                                                 ...   \n",
       "4889  thakur institute of management studies, career...   \n",
       "4890                 government polytechnic gandhinagar   \n",
       "4891          vishwakarma institute of technology, pune   \n",
       "4892                 mit academy of engineering ,alandi   \n",
       "4893                 a. c. patil college of engineering   \n",
       "\n",
       "     How did you come to know about this event?   \n",
       "0                                         Email  \\\n",
       "1                                      Whatsapp   \n",
       "2                                         Email   \n",
       "3                            Youtube | Facebook   \n",
       "4                                           NaN   \n",
       "...                                         ...   \n",
       "4889                LinkedIn | Whatsapp | Email   \n",
       "4890                                        NaN   \n",
       "4891                                        NaN   \n",
       "4892                                        NaN   \n",
       "4893                                        NaN   \n",
       "\n",
       "     Specify in \"Others\" (how did you come to know about this event)   \n",
       "0                                                   NaN               \\\n",
       "1                                                   NaN                \n",
       "2                                                   NaN                \n",
       "3                                                   NaN                \n",
       "4                                                   NaN                \n",
       "...                                                 ...                \n",
       "4889                                                NaN                \n",
       "4890                                                NaN                \n",
       "4891                                                NaN                \n",
       "4892                                                NaN                \n",
       "4893                                                NaN                \n",
       "\n",
       "     Designation  Year of Graduation      City  CGPA   \n",
       "0       Students                2025    Orchha   7.9  \\\n",
       "1       Students                2026    Ujjain   7.7   \n",
       "2       Students                2025  Agartala   7.1   \n",
       "3       Students                2023   Palashi   7.3   \n",
       "4       Students                2024  Bhandara   6.7   \n",
       "...          ...                 ...       ...   ...   \n",
       "4889    Students                2024   Jodhpur   6.9   \n",
       "4890    Students                2023   Jalgaon   6.5   \n",
       "4891    Students                2024     Thane   6.9   \n",
       "4892    Students                2024   Patiala   9.0   \n",
       "4893    Students                2025   Sangrur   7.2   \n",
       "\n",
       "      Experience with python (Months) Family Income  Expected salary (Lac)   \n",
       "0                                   7      0-2 Lakh                     24  \\\n",
       "1                                   7      0-2 Lakh                     21   \n",
       "2                                   3      0-2 Lakh                     20   \n",
       "3                                   4      0-2 Lakh                     21   \n",
       "4                                   3      0-2 Lakh                      9   \n",
       "...                               ...           ...                    ...   \n",
       "4889                                6      0-2 Lakh                     15   \n",
       "4890                                6      0-2 Lakh                      8   \n",
       "4891                                5      0-2 Lakh                      7   \n",
       "4892                                3      0-2 Lakh                     23   \n",
       "4893                                8      0-2 Lakh                      9   \n",
       "\n",
       "     Leadership- skills   GPA  \n",
       "0                    no  3.16  \n",
       "1                    no  3.08  \n",
       "2                   yes  2.84  \n",
       "3                    no  2.92  \n",
       "4                    no  2.68  \n",
       "...                 ...   ...  \n",
       "4889                yes  2.76  \n",
       "4890                 no  2.60  \n",
       "4891                 no  2.76  \n",
       "4892                yes  3.60  \n",
       "4893                yes  2.88  \n",
       "\n",
       "[4894 rows x 17 columns]"
      ]
     },
     "execution_count": 36,
     "metadata": {},
     "output_type": "execute_result"
    }
   ],
   "source": [
    "# Read Excel file\n",
    "data = pd.read_excel('data.xlsx')\n",
    "#create a new column of GPA\n",
    "data['GPA']=data['CGPA']/10*4\n",
    "data"
   ]
  },
  {
   "cell_type": "code",
   "execution_count": 6,
   "id": "44c43756",
   "metadata": {
    "scrolled": true
   },
   "outputs": [
    {
     "name": "stdout",
     "output_type": "stream",
     "text": [
      "Number of unique students: 4271\n"
     ]
    }
   ],
   "source": [
    "#Q1) How many unique students are included in the dataset?\n",
    "#Get students from the given designation\n",
    "rslt_df = data[data['Designation'] =='Students']\n",
    "# Define the combination of columns that represent a unique student\n",
    "unique_columns = ['First Name', 'Email ID', 'College Name']\n",
    "\n",
    "# Find unique students based on the defined combination of columns\n",
    "unique_students = rslt_df.drop_duplicates(subset=unique_columns)\n",
    "\n",
    "# Get the number of unique students\n",
    "num_unique_students = len(unique_students)\n",
    "\n",
    "# Print the number of unique students\n",
    "print(\"Number of unique students:\", num_unique_students)\n"
   ]
  },
  {
   "cell_type": "code",
   "execution_count": 37,
   "id": "4067a4c0",
   "metadata": {},
   "outputs": [
    {
     "name": "stdout",
     "output_type": "stream",
     "text": [
      "AVERAGE GPA= 3.215299295774648\n"
     ]
    }
   ],
   "source": [
    "#Q2) What is the average GPA of the students\n",
    "#rslt_df contains the data where designation='Student'\n",
    "rslt_df = data[data['Designation'] =='Students']\n",
    "print(\"AVERAGE GPA=\",rslt_df['GPA'].mean())"
   ]
  },
  {
   "cell_type": "code",
   "execution_count": 39,
   "id": "d3a78cec",
   "metadata": {},
   "outputs": [
    {
     "name": "stdout",
     "output_type": "stream",
     "text": [
      "Distribution of students among different graduation years are: \n",
      "    Year of Graduation  count\n",
      "0                2023   1421\n",
      "1                2024   1402\n",
      "2                2025   1201\n",
      "3                2026    520\n"
     ]
    }
   ],
   "source": [
    "#Q3) What is the distribution of the students across different graduation years\n",
    "#rslt_df contains the data where designation='Student'\n",
    "df=rslt_df[\"Year of Graduation\"].value_counts().reset_index()\n",
    "print('Distribution of students among different graduation years are: \\n',df)"
   ]
  },
  {
   "cell_type": "code",
   "execution_count": 40,
   "id": "54b10bb0",
   "metadata": {},
   "outputs": [
    {
     "name": "stdout",
     "output_type": "stream",
     "text": [
      "he distribution of students experience with Python programming are: \n",
      "    Experience with python (Months)  count\n",
      "0                                5   1161\n",
      "1                                3    934\n",
      "2                                8    772\n",
      "3                                6    695\n",
      "4                                7    573\n",
      "5                                4    409\n"
     ]
    }
   ],
   "source": [
    "#Q4) What is the distribution of students experience with Python programming\n",
    "#rslt_df contains the data where designation='Student'\n",
    "exp = rslt_df[\"Experience with python (Months)\"].value_counts().reset_index()\n",
    "print('he distribution of students experience with Python programming are: \\n',exp)"
   ]
  },
  {
   "cell_type": "code",
   "execution_count": 10,
   "id": "cffe8346",
   "metadata": {},
   "outputs": [
    {
     "data": {
      "text/plain": [
       "array(['0-2 Lakh', '7 Lakh+', '5-7 Lakh', '2-5 Lakh'], dtype=object)"
      ]
     },
     "execution_count": 10,
     "metadata": {},
     "output_type": "execute_result"
    }
   ],
   "source": [
    "rslt_df['Family Income'].unique()"
   ]
  },
  {
   "cell_type": "code",
   "execution_count": 11,
   "id": "45bdb482",
   "metadata": {},
   "outputs": [
    {
     "name": "stdout",
     "output_type": "stream",
     "text": [
      "average family income of the students: 127541.81338028169\n"
     ]
    },
    {
     "name": "stderr",
     "output_type": "stream",
     "text": [
      "C:\\Users\\HP\\AppData\\Local\\Temp\\ipykernel_3304\\4090476327.py:3: SettingWithCopyWarning: \n",
      "A value is trying to be set on a copy of a slice from a DataFrame.\n",
      "Try using .loc[row_indexer,col_indexer] = value instead\n",
      "\n",
      "See the caveats in the documentation: https://pandas.pydata.org/pandas-docs/stable/user_guide/indexing.html#returning-a-view-versus-a-copy\n",
      "  rslt_df['Family Income']= rslt_df['Family Income'].replace(replacements)\n"
     ]
    }
   ],
   "source": [
    "#Q5) What is the average family income of the students\n",
    "#rslt_df contains the data where designation='Student'\n",
    "#to find the average family income we need to replace 0-2 Lakhs with the average salary..\n",
    "replacements = {'7 Lakh+':'700000','0-2 Lakh':'100000','5-7 Lakh': '600000', '2-5 Lakh': '350000'}\n",
    "rslt_df['Family Income']= rslt_df['Family Income'].replace(replacements)\n",
    "print(\"average family income of the students:\",rslt_df['Family Income'].astype(int).mean())\n"
   ]
  },
  {
   "cell_type": "code",
   "execution_count": 42,
   "id": "406e352d",
   "metadata": {},
   "outputs": [
    {
     "data": {
      "text/html": [
       "<div>\n",
       "<style scoped>\n",
       "    .dataframe tbody tr th:only-of-type {\n",
       "        vertical-align: middle;\n",
       "    }\n",
       "\n",
       "    .dataframe tbody tr th {\n",
       "        vertical-align: top;\n",
       "    }\n",
       "\n",
       "    .dataframe thead th {\n",
       "        text-align: right;\n",
       "    }\n",
       "</style>\n",
       "<table border=\"1\" class=\"dataframe\">\n",
       "  <thead>\n",
       "    <tr style=\"text-align: right;\">\n",
       "      <th></th>\n",
       "      <th>GPA</th>\n",
       "    </tr>\n",
       "    <tr>\n",
       "      <th>College Name</th>\n",
       "      <th></th>\n",
       "    </tr>\n",
       "  </thead>\n",
       "  <tbody>\n",
       "    <tr>\n",
       "      <th>A. C. Patil College of Engineering</th>\n",
       "      <td>3.109189</td>\n",
       "    </tr>\n",
       "    <tr>\n",
       "      <th>ADHIYAMAAN COLLEGE OF ENGINEERING</th>\n",
       "      <td>3.058182</td>\n",
       "    </tr>\n",
       "    <tr>\n",
       "      <th>AP SHAH INSTITUTE OF TECHNOLOGY</th>\n",
       "      <td>3.313333</td>\n",
       "    </tr>\n",
       "    <tr>\n",
       "      <th>B. K. Birla College of Arts, Science &amp; Commerce (Autonomous), Kalyan</th>\n",
       "      <td>3.382564</td>\n",
       "    </tr>\n",
       "    <tr>\n",
       "      <th>CHHATTISGARH SWAMI VIVEKANANDA TECHNICAL UNIVERSITY TEACHING DEPARTMENT BHILAI</th>\n",
       "      <td>3.181818</td>\n",
       "    </tr>\n",
       "  </tbody>\n",
       "</table>\n",
       "</div>"
      ],
      "text/plain": [
       "                                                         GPA\n",
       "College Name                                                \n",
       "A. C. Patil College of Engineering                  3.109189\n",
       "ADHIYAMAAN COLLEGE OF ENGINEERING                   3.058182\n",
       "AP SHAH INSTITUTE OF TECHNOLOGY                     3.313333\n",
       "B. K. Birla College of Arts, Science & Commerce...  3.382564\n",
       "CHHATTISGARH SWAMI VIVEKANANDA TECHNICAL UNIVER...  3.181818"
      ]
     },
     "execution_count": 42,
     "metadata": {},
     "output_type": "execute_result"
    }
   ],
   "source": [
    "#Q6)How does GPA vary among different colleges(Show top 5 results)\n",
    "len(data['College Name'].unique())\n",
    "cllg=data.groupby(\"College Name\").agg(\n",
    "    { \"GPA\": pd.Series.mean})\n",
    "#get the top 5 colleges \n",
    "cllg.head(5)"
   ]
  },
  {
   "cell_type": "code",
   "execution_count": 13,
   "id": "0bcf0a02",
   "metadata": {},
   "outputs": [
    {
     "name": "stdout",
     "output_type": "stream",
     "text": [
      "there is no outlier between Atteendee status and quantity\n"
     ]
    }
   ],
   "source": [
    "#Q7) Are there any outliers between attending status and quantity(number of courses completed) attribute?\n",
    "# data['Attendee Status'].unique()\n",
    "data[['Quantity','Attendee Status']]\n",
    "print(\"there is no outlier between Atteendee status and quantity\")"
   ]
  },
  {
   "cell_type": "code",
   "execution_count": 35,
   "id": "55f65c11",
   "metadata": {},
   "outputs": [
    {
     "name": "stdout",
     "output_type": "stream",
     "text": [
      "The average GPA of students from each city=                CGPA\n",
      "City               \n",
      "Agartala   7.687500\n",
      "Agra       8.000000\n",
      "Ahemdabad  8.212245\n",
      "Ajmer      8.271429\n",
      "Akola      8.013514\n",
      "...             ...\n",
      "Vidisha    7.735897\n",
      "Vijaywada  7.995000\n",
      "Wardha     8.328571\n",
      "konark     7.984615\n",
      "kullu      7.933333\n",
      "\n",
      "[177 rows x 1 columns]\n"
     ]
    }
   ],
   "source": [
    "#Q8 What is the average GPA for student from each city\n",
    "#rslt_df contains the data where designation='Student'\n",
    "cities=rslt_df.groupby(\"City\").agg(\n",
    "    { \"CGPA\": pd.Series.mean})\n",
    "print('The average GPA of students from each city=',cities)"
   ]
  },
  {
   "cell_type": "code",
   "execution_count": 15,
   "id": "c1666d27",
   "metadata": {},
   "outputs": [
    {
     "data": {
      "image/png": "[encoded data removed]",
      "text/plain": [
       "<Figure size 640x480 with 1 Axes>"
      ]
     },
     "metadata": {},
     "output_type": "display_data"
    },
    {
     "name": "stdout",
     "output_type": "stream",
     "text": [
      "From the above graph it seems that there is a potential linear relationship between Family Income and CGPA. \n"
     ]
    }
   ],
   "source": [
    "#Q9) Can we identify any relationship between family income and GPA?\n",
    "#to find the relationship between cgpa and family income we need to get the exact salary amount to get that replace 0-2 Lakhs with the average salary..\n",
    "replacements = {'7 Lakh+':'700000','0-2 Lakh':'100000','5-7 Lakh': '600000', '2-5 Lakh': '350000'}\n",
    "data['Family Income']= data['Family Income'].replace(replacements)\n",
    "income=data.groupby(\"Family Income\").agg(\n",
    "    { \"CGPA\": pd.Series.mean})\n",
    "a=income.sort_values(by='Family Income',ascending=False)\n",
    "\n",
    "#plot graph using the above data\n",
    "sns.scatterplot(x='CGPA', y='Family Income', data=a)\n",
    "plt.xlabel('CGPA')\n",
    "plt.ylabel('Family Income')\n",
    "plt.title('CGPA vs. Family Income')\n",
    "\n",
    "plt.show()\n",
    "print(\"From the above graph it seems that there is a potential linear relationship between Family Income and CGPA. \")"
   ]
  },
  {
   "cell_type": "code",
   "execution_count": 16,
   "id": "ec9e866d",
   "metadata": {},
   "outputs": [
    {
     "name": "stdout",
     "output_type": "stream",
     "text": [
      "In the below dataframe it seems that people with  experience of 6-8 months in python and family income of 5-7L and 9+ GPA expects mmore salary comparatively                                                     Expected salary (Lac)\n",
      "CGPA Family Income Experience with python (Months)                       \n",
      "9.3  600000        6                                                 35.0\n",
      "9.2  350000        6                                                 30.0\n",
      "6.2  700000        8                                                 30.0\n",
      "9.3  700000        8                                                 30.0\n",
      "6.9  600000        7                                                 30.0\n",
      "...                                                                   ...\n",
      "6.4  700000        8                                                  5.0\n",
      "8.2  350000        5                                                  5.0\n",
      "6.8  600000        5                                                  5.0\n",
      "8.4  600000        3                                                  5.0\n",
      "6.6  350000        3                                                  5.0\n",
      "\n",
      "[451 rows x 1 columns]\n"
     ]
    }
   ],
   "source": [
    "#Q10) How does the expected salary vary based on factors like 'GPA','Family Income','Experience with python(Months)' \n",
    "vary=data.groupby(['CGPA','Family Income','Experience with python (Months)']).agg({ \"Expected salary (Lac)\": pd.Series.mean})\n",
    "a=vary.sort_values(by='Expected salary (Lac)',ascending=False)\n",
    "print(\"In the below dataframe it seems that people with  experience of 6-8 months in python and family income of 5-7L and 9+ GPA expects mmore salary comparatively\",a)"
   ]
  },
  {
   "cell_type": "code",
   "execution_count": 34,
   "id": "5f084f8c",
   "metadata": {},
   "outputs": [
    {
     "name": "stdout",
     "output_type": "stream",
     "text": [
      "The below result shows that-Product Design & Full Stack event attracts more students\n"
     ]
    },
    {
     "data": {
      "text/html": [
       "<div>\n",
       "<style scoped>\n",
       "    .dataframe tbody tr th:only-of-type {\n",
       "        vertical-align: middle;\n",
       "    }\n",
       "\n",
       "    .dataframe tbody tr th {\n",
       "        vertical-align: top;\n",
       "    }\n",
       "\n",
       "    .dataframe thead th {\n",
       "        text-align: right;\n",
       "    }\n",
       "</style>\n",
       "<table border=\"1\" class=\"dataframe\">\n",
       "  <thead>\n",
       "    <tr style=\"text-align: right;\">\n",
       "      <th></th>\n",
       "      <th>Designation</th>\n",
       "    </tr>\n",
       "    <tr>\n",
       "      <th>Events</th>\n",
       "      <th></th>\n",
       "    </tr>\n",
       "  </thead>\n",
       "  <tbody>\n",
       "    <tr>\n",
       "      <th>Product Design &amp; Full Stack</th>\n",
       "      <td>842</td>\n",
       "    </tr>\n",
       "    <tr>\n",
       "      <th>Internship Program(IP) Success Conclave</th>\n",
       "      <td>545</td>\n",
       "    </tr>\n",
       "    <tr>\n",
       "      <th>Art of Resume Building</th>\n",
       "      <td>478</td>\n",
       "    </tr>\n",
       "    <tr>\n",
       "      <th>Data Visualization using Power BI</th>\n",
       "      <td>455</td>\n",
       "    </tr>\n",
       "    <tr>\n",
       "      <th>Talk on Skill and Employability Enhancement</th>\n",
       "      <td>379</td>\n",
       "    </tr>\n",
       "    <tr>\n",
       "      <th>Skill and Employability Enhancement</th>\n",
       "      <td>318</td>\n",
       "    </tr>\n",
       "    <tr>\n",
       "      <th>IS DATA SCIENCE FOR YOU?</th>\n",
       "      <td>303</td>\n",
       "    </tr>\n",
       "    <tr>\n",
       "      <th>Hello ML and DL</th>\n",
       "      <td>262</td>\n",
       "    </tr>\n",
       "    <tr>\n",
       "      <th>KYC - Know Your CCPC</th>\n",
       "      <td>166</td>\n",
       "    </tr>\n",
       "    <tr>\n",
       "      <th>The SDLC &amp; their transformations</th>\n",
       "      <td>142</td>\n",
       "    </tr>\n",
       "    <tr>\n",
       "      <th>Artificial Intelligence</th>\n",
       "      <td>125</td>\n",
       "    </tr>\n",
       "    <tr>\n",
       "      <th>The Agile Ways of Working</th>\n",
       "      <td>121</td>\n",
       "    </tr>\n",
       "    <tr>\n",
       "      <th>RPA: A Boon or A Bane</th>\n",
       "      <td>114</td>\n",
       "    </tr>\n",
       "    <tr>\n",
       "      <th>Product Marketing</th>\n",
       "      <td>112</td>\n",
       "    </tr>\n",
       "    <tr>\n",
       "      <th>Transformation with DevOps: The Easy Way</th>\n",
       "      <td>92</td>\n",
       "    </tr>\n",
       "    <tr>\n",
       "      <th>IAC - Q&amp;A</th>\n",
       "      <td>90</td>\n",
       "    </tr>\n",
       "  </tbody>\n",
       "</table>\n",
       "</div>"
      ],
      "text/plain": [
       "                                             Designation\n",
       "Events                                                  \n",
       "Product Design & Full Stack                          842\n",
       "Internship Program(IP) Success Conclave              545\n",
       "Art of Resume Building                               478\n",
       "Data Visualization using Power BI                    455\n",
       "Talk on Skill and Employability Enhancement          379\n",
       "Skill and Employability Enhancement                  318\n",
       "IS DATA SCIENCE FOR YOU?                             303\n",
       "Hello ML and DL                                      262\n",
       "KYC - Know Your CCPC                                 166\n",
       "The SDLC & their transformations                     142\n",
       "Artificial Intelligence                              125\n",
       "The Agile Ways of Working                            121\n",
       "RPA: A Boon or A Bane                                114\n",
       "Product Marketing                                    112\n",
       "Transformation with DevOps: The Easy Way              92\n",
       "IAC - Q&A                                             90"
      ]
     },
     "execution_count": 34,
     "metadata": {},
     "output_type": "execute_result"
    }
   ],
   "source": [
    "#Q11) Which event tend to attract more students from specific field of study?\n",
    "#rslt_df contains the data where designation='Student'\n",
    "\n",
    "event=rslt_df.groupby(\"Events\").agg(\n",
    "    { \"Designation\": pd.Series.count})\n",
    "a=event.sort_values(by='Designation',ascending=False)\n",
    "print(\"The below result shows that-Product Design & Full Stack event attracts more students\")\n",
    "a"
   ]
  },
  {
   "cell_type": "code",
   "execution_count": 33,
   "id": "5e757658",
   "metadata": {},
   "outputs": [
    {
     "name": "stderr",
     "output_type": "stream",
     "text": [
      "C:\\Users\\HP\\AppData\\Local\\Temp\\ipykernel_3304\\3221498376.py:4: SettingWithCopyWarning: \n",
      "A value is trying to be set on a copy of a slice from a DataFrame.\n",
      "Try using .loc[row_indexer,col_indexer] = value instead\n",
      "\n",
      "See the caveats in the documentation: https://pandas.pydata.org/pandas-docs/stable/user_guide/indexing.html#returning-a-view-versus-a-copy\n",
      "  rslt_df['Leadership- skills']= rslt_df['Leadership- skills'].replace(replacements)\n"
     ]
    },
    {
     "data": {
      "image/png": "[encoded data removed]",
      "text/plain": [
       "<Figure size 640x480 with 1 Axes>"
      ]
     },
     "metadata": {},
     "output_type": "display_data"
    },
    {
     "name": "stdout",
     "output_type": "stream",
     "text": [
      "In the above graph it seems that leadership positions do not affect CGPA\n"
     ]
    }
   ],
   "source": [
    "#Q12) Do students in leadership positions during there college years tend to have higher GPAs or better expected salary?\n",
    "#i)\n",
    "replacements={'no ':'no'}\n",
    "rslt_df['Leadership- skills']= rslt_df['Leadership- skills'].replace(replacements)\n",
    "sns.scatterplot(x='CGPA', y='Leadership- skills', data=rslt_df)\n",
    "plt.xlabel('CGPA')\n",
    "plt.ylabel('Leadership- skills')\n",
    "plt.title('CGPA vs. Leadership- skills')\n",
    "\n",
    "plt.show()\n",
    "\n",
    "print(\"In the above graph it seems that leadership positions do not affect CGPA\")\n"
   ]
  },
  {
   "cell_type": "code",
   "execution_count": 32,
   "id": "92cf131f",
   "metadata": {},
   "outputs": [
    {
     "data": {
      "image/png": "[encoded data removed]",
      "text/plain": [
       "<Figure size 640x480 with 1 Axes>"
      ]
     },
     "metadata": {},
     "output_type": "display_data"
    },
    {
     "name": "stdout",
     "output_type": "stream",
     "text": [
      "In the above graph it seems that leadership positions do not affect Expected Salary\n"
     ]
    }
   ],
   "source": [
    "#Q12) Do students in leadership positions during there college years tend to have higher GPAs or better expected salary?\n",
    "#ii)\n",
    "sns.scatterplot(x='Expected salary (Lac)', y='Leadership- skills', data=rslt_df)\n",
    "plt.xlabel('Expected salary (Lac)')\n",
    "plt.ylabel('Leadership- skills')\n",
    "plt.title('Expected salary (Lac) vs. Leadership- skills')\n",
    "\n",
    "plt.show()\n",
    "\n",
    "print(\"In the above graph it seems that leadership positions do not affect Expected Salary\")"
   ]
  },
  {
   "cell_type": "code",
   "execution_count": 31,
   "id": "f7a7aa09",
   "metadata": {},
   "outputs": [
    {
     "name": "stdout",
     "output_type": "stream",
     "text": [
      "The below performed correlation method shows that that there isn't any correlation between Leadership skills and expected salary of the students \n",
      "                        Expected salary (Lac)  Leadership- skills\n",
      "Expected salary (Lac)                      1                   0\n",
      "Leadership- skills                         0                   1\n"
     ]
    },
    {
     "name": "stderr",
     "output_type": "stream",
     "text": [
      "C:\\Users\\HP\\AppData\\Local\\Temp\\ipykernel_3304\\365052699.py:7: SettingWithCopyWarning: \n",
      "A value is trying to be set on a copy of a slice from a DataFrame.\n",
      "Try using .loc[row_indexer,col_indexer] = value instead\n",
      "\n",
      "See the caveats in the documentation: https://pandas.pydata.org/pandas-docs/stable/user_guide/indexing.html#returning-a-view-versus-a-copy\n",
      "  corr['Leadership- skills']= corr['Leadership- skills'].replace(replace)\n"
     ]
    }
   ],
   "source": [
    "#Q13) Is there any correlation between Leadership skills and expected salary of the students?\n",
    "#rslt_df contains the data where designation='Student'\n",
    "corr=rslt_df[['Expected salary (Lac)','Leadership- skills']] \n",
    "\n",
    "#replca 'yes' with '1' and 'no' with '0'\n",
    "replace = {'yes':'1','no':'0'}\n",
    "corr['Leadership- skills']= corr['Leadership- skills'].replace(replace)\n",
    "\n",
    "correlation=corr = corr.corr(method = 'spearman').astype(int)\n",
    "print('The below performed correlation method shows that that there isn\\'t any correlation between Leadership skills and expected salary of the students \\n',correlation)"
   ]
  },
  {
   "cell_type": "code",
   "execution_count": 21,
   "id": "d6968558",
   "metadata": {},
   "outputs": [
    {
     "name": "stdout",
     "output_type": "stream",
     "text": [
      "Total number of students graduating in the year 2024 are:- 1402\n"
     ]
    }
   ],
   "source": [
    "#Q14) How many students are graduating at the end of 2024?\n",
    "#rslt_df contains the data where designation='Student'\n",
    "graduate=rslt_df[rslt_df['Year of Graduation'] ==2024]\n",
    "print('Total number of students graduating in the year 2024 are:-',graduate['Year of Graduation'].count())"
   ]
  },
  {
   "cell_type": "code",
   "execution_count": 29,
   "id": "3ba8cc92",
   "metadata": {},
   "outputs": [
    {
     "name": "stdout",
     "output_type": "stream",
     "text": [
      "All the available promotion channels: \n",
      " ['Email' 'Whatsapp' 'Youtube | Facebook' nan 'Others'\n",
      " 'Instagram | LinkedIn | Cloud Counselage Website' 'LinkedIn'\n",
      " 'Cloud Counselage Website' 'Instagram | Whatsapp | Email' 'Youtube'\n",
      " 'Whatsapp | Others' 'Instagram | Whatsapp' 'Youtube | Whatsapp | Email'\n",
      " 'Facebook' 'Youtube | Facebook | Instagram | LinkedIn | Whatsapp | Email'\n",
      " 'Instagram | Email' 'LinkedIn | Email | Cloud Counselage Website'\n",
      " 'Youtube | Facebook | Instagram | Whatsapp | Email' 'Email | Others'\n",
      " 'LinkedIn | Whatsapp' 'Email | Cloud Counselage Website'\n",
      " 'Whatsapp | Email' 'LinkedIn | Email' 'Youtube | Email'\n",
      " 'Youtube | Facebook | Instagram | LinkedIn | Whatsapp | Email | Cloud Counselage Website'\n",
      " 'Facebook | Whatsapp' 'Youtube | Whatsapp'\n",
      " 'Youtube | Facebook | Instagram | LinkedIn | Whatsapp | Email | Cloud Counselage Website | Others'\n",
      " 'Youtube | Facebook | Whatsapp | Email' 'Facebook | Instagram'\n",
      " 'Email | SPOC/ College Professor' 'SPOC/ College Professor'\n",
      " 'Cloud Counselage Website | Others' 'Whatsapp | SPOC/ College Professor'\n",
      " 'Friend/ Classmate'\n",
      " 'Youtube | Facebook | Instagram | Email | Cloud Counselage Website'\n",
      " 'Whatsapp | Cloud Counselage Website' 'Whatsapp | Telegram' 'Twitter'\n",
      " 'LinkedIn | Cloud Counselage Website' 'Whatsapp | Email | Others'\n",
      " 'Instagram' 'Instagram | LinkedIn | Email | Cloud Counselage Website'\n",
      " 'Youtube | Facebook | Instagram | Whatsapp'\n",
      " 'Whatsapp | Friend/ Classmate'\n",
      " 'Whatsapp | Friend/ Classmate | SPOC/ College Professor'\n",
      " 'Friend/ Classmate | SPOC/ College Professor'\n",
      " 'LinkedIn | Email | Cloud Counselage Website | Telegram'\n",
      " 'Cloud Counselage Website | SPOC/ College Professor'\n",
      " 'Whatsapp | Cloud Counselage Website | SPOC/ College Professor'\n",
      " 'Youtube | Facebook | Instagram | LinkedIn | Whatsapp | Email | Cloud Counselage Website | Telegram | Twitter'\n",
      " 'Telegram' 'LinkedIn | Whatsapp | Email'\n",
      " 'Youtube | Facebook | Instagram | Whatsapp | Email | Cloud Counselage Website | Friend/ Classmate | SPOC/ College Professor'\n",
      " 'Youtube | Facebook | Instagram | Whatsapp | Email | Cloud Counselage Website | Telegram | Twitter | Friend/ Classmate'\n",
      " 'Youtube | Others' 'Instagram | Friend/ Classmate'\n",
      " 'Youtube | Cloud Counselage Website | SPOC/ College Professor'\n",
      " 'Youtube | Instagram | Whatsapp' 'Youtube | Friend/ Classmate'\n",
      " 'LinkedIn | Whatsapp | Cloud Counselage Website | Friend/ Classmate'\n",
      " 'LinkedIn | SPOC/ College Professor' 'Instagram | LinkedIn'\n",
      " 'Youtube | Instagram | Whatsapp | Telegram | Twitter'\n",
      " 'Youtube | Facebook | Instagram | Whatsapp | Email | Friend/ Classmate'\n",
      " 'Youtube | Whatsapp | Friend/ Classmate' 'Telegram | Friend/ Classmate'\n",
      " 'Youtube | Instagram | Whatsapp | Email' 'LinkedIn | Email | Telegram'\n",
      " 'Cloud Counselage Website | Friend/ Classmate' 'Youtube | Email | Others'\n",
      " 'Youtube | LinkedIn | Whatsapp | Email' 'Whatsapp | Email | Telegram'\n",
      " 'Youtube | Instagram' 'LinkedIn | Telegram'\n",
      " 'Email | Cloud Counselage Website | Telegram'\n",
      " 'Youtube | Facebook | Instagram | LinkedIn | Whatsapp | Email | Telegram | Friend/ Classmate'\n",
      " 'Youtube | Facebook | Instagram | LinkedIn | Whatsapp'\n",
      " 'Instagram | Whatsapp | Cloud Counselage Website'\n",
      " 'Whatsapp | Email | Cloud Counselage Website'\n",
      " 'Youtube | Instagram | Whatsapp | Cloud Counselage Website'\n",
      " 'Facebook | Cloud Counselage Website' 'Facebook | LinkedIn'\n",
      " 'Youtube | Facebook | Instagram | Email'\n",
      " 'Youtube | LinkedIn | Cloud Counselage Website'\n",
      " 'Facebook | Instagram | Whatsapp | Email'\n",
      " 'Youtube | Instagram | LinkedIn | Whatsapp | Email'\n",
      " 'Youtube | Instagram | Whatsapp | Email | Cloud Counselage Website'\n",
      " 'Youtube | Whatsapp | Email | Cloud Counselage Website'\n",
      " 'Whatsapp | Email | Cloud Counselage Website | SPOC/ College Professor'\n",
      " 'Youtube | Facebook | Instagram | LinkedIn | Whatsapp | Email | Telegram | Twitter | Friend/ Classmate'\n",
      " 'Youtube | Facebook | Instagram | LinkedIn | Email | Cloud Counselage Website'\n",
      " 'Whatsapp | Cloud Counselage Website | Others'\n",
      " 'Cloud Counselage Website | Friend/ Classmate | SPOC/ College Professor'\n",
      " 'Youtube | Facebook | Instagram | Whatsapp | Email | Telegram | Twitter | Friend/ Classmate'\n",
      " 'Others | SPOC/ College Professor' 'Youtube | Facebook | Whatsapp'\n",
      " 'LinkedIn | Whatsapp | Cloud Counselage Website'\n",
      " 'Instagram | Whatsapp | Email | Others'\n",
      " 'Youtube | Whatsapp | Cloud Counselage Website']\n",
      "The promotion channel that brings in the most student participations is: Whatsapp\n"
     ]
    }
   ],
   "source": [
    "#Q15) Which promotion channel brings in more student participations for the event?\n",
    "\n",
    "#rslt_df contains the data where designation='Student'\n",
    "#rslt_df['How did you come to know about this event?'].unique()\n",
    "values=rslt_df['How did you come to know about this event?'].unique()\n",
    "print(\"All the available promotion channels: \\n\",values)\n",
    "#remove '|' from the data and get the individual channel names\n",
    "rslt_df1=rslt_df['How did you come to know about this event?'].str.split('|')\n",
    "new_rslt_df=rslt_df1.explode('How did you come to know about this event?').reset_index()\n",
    "#rename the columns\n",
    "new_rslt_df.columns=['c','How did you come to know about this event?']\n",
    "# Count the occurrences of each channel\n",
    "channel_counts = new_rslt_df['How did you come to know about this event?'].value_counts()\n",
    "\n",
    "# # Get the channel with the highest count\n",
    "most_successful_channel = channel_counts.idxmax()\n",
    "\n",
    "print(f\"The promotion channel that brings in the most student participations is: {most_successful_channel}\")\n",
    "\n",
    "\n",
    "\n",
    "\n"
   ]
  },
  {
   "cell_type": "code",
   "execution_count": 23,
   "id": "f0675ec6",
   "metadata": {},
   "outputs": [
    {
     "name": "stdout",
     "output_type": "stream",
     "text": [
      "In the below given dataset we can see there is only one event related to data science i.e. : \n",
      "Data Visualization using Power BI ,\n",
      " Artificial Intelligence,\n",
      " Hello ML and DL,\n",
      " IS DATA SCIENCE FOR YOU?,\n",
      " RPA: A Boon or A Bane \n",
      "\n",
      " ['Art of Resume Building' 'Data Visualization using Power BI'\n",
      " 'Product Design & Full Stack' 'Artificial Intelligence' 'Hello ML and DL'\n",
      " 'Product Marketing' 'IAC - Q&A' 'Internship Program(IP) Success Conclave'\n",
      " 'IS DATA SCIENCE FOR YOU?' 'KYC - Know Your CCPC' 'RPA: A Boon or A Bane'\n",
      " 'Skill and Employability Enhancement'\n",
      " 'Talk on Skill and Employability Enhancement' 'The Agile Ways of Working'\n",
      " 'The SDLC & their transformations'\n",
      " 'Transformation with DevOps: The Easy Way']\n",
      "\n",
      " The total number of students who attended the event related to datascience are:- \n",
      " 842\n"
     ]
    }
   ],
   "source": [
    "#Q16) Find the total number of students who attended the event related to datascience(From all Data science related courses)\n",
    "\n",
    "print(\"In the below given dataset we can see there is 5 events related to data science i.e. : \\nData Visualization using Power BI ,\\n Artificial Intelligence,\\n Hello ML and DL,\\n IS DATA SCIENCE FOR YOU?,\\n RPA: A Boon or A Bane \\n\\n\",rslt_df['Events'].unique())\n",
    "# ds=rslt_df[(rslt_df['Events'] =='Data Visualization using Power BI') and (rslt_df['Events'] =='Artificial Intelligence')]\n",
    "\n",
    "ds = rslt_df[(rslt_df['Events'] == 'Data Visualization using Power BI') | (rslt_df['Events'] == 'Artificial Intelligence') | (rslt_df['Events'] == 'Hello ML and DL')| (rslt_df['Events'] == ' IS DATA SCIENCE FOR YOU?' ) | (rslt_df['Events'] == 'RPA: A Boon or A Bane ' )]\n",
    "\n",
    "print('\\n The total number of students who attended the event related to datascience are:- \\n',ds['Events'].count())"
   ]
  },
  {
   "cell_type": "code",
   "execution_count": 24,
   "id": "24c7680f",
   "metadata": {},
   "outputs": [
    {
     "name": "stdout",
     "output_type": "stream",
     "text": [
      "The average CGPA is 8.038475684511647 The average of Experience with python (Months) is 5.395586432366163\n"
     ]
    },
    {
     "data": {
      "image/png": "[encoded data removed]",
      "text/plain": [
       "<Figure size 640x480 with 1 Axes>"
      ]
     },
     "metadata": {},
     "output_type": "display_data"
    },
    {
     "name": "stdout",
     "output_type": "stream",
     "text": [
      "In the above graph it seems that those with high CGPA have high salary expectations \n"
     ]
    }
   ],
   "source": [
    "#Q17) Those who have high CGPA & More experience in language those who had high expectations for salary(Avg)\n",
    "print(\"The average CGPA is\",data[\"CGPA\"].mean(),\"The average of Experience with python (Months) is\",data[\"Experience with python (Months)\"].mean())\n",
    "\n",
    "\n",
    "\n",
    "# Define the threshold values for salary and CGPA\n",
    "high_exp_in_py = data[\"Experience with python (Months)\"].mean()  \n",
    "high_cgpa_threshold = data[\"CGPA\"].mean()\n",
    "\n",
    "df = pd.DataFrame(data)\n",
    "# Filter individuals with high salary and high CGPA\n",
    "high_values = df[(df['Experience with python (Months)'] >= high_exp_in_py ) &\n",
    "    (df['CGPA'] >= high_cgpa_threshold)\n",
    "]\n",
    "\n",
    "sns.scatterplot(x='CGPA', y='Expected salary (Lac)', data=high_values)\n",
    "plt.xlabel('CGPA')\n",
    "plt.ylabel('Expected salary (Lac)')\n",
    "plt.title('CGPA vs. Expected salary (Lac)')\n",
    "\n",
    "plt.show()\n",
    "print(\"In the above graph it seems that those with high CGPA have high salary expectations \")"
   ]
  },
  {
   "cell_type": "code",
   "execution_count": 25,
   "id": "fbdb72b4",
   "metadata": {},
   "outputs": [
    {
     "data": {
      "image/png": "[encoded data removed]",
      "text/plain": [
       "<Figure size 640x480 with 1 Axes>"
      ]
     },
     "metadata": {},
     "output_type": "display_data"
    },
    {
     "name": "stdout",
     "output_type": "stream",
     "text": [
      "In the above graph it seems that those with high Experience with python (Months) have high salary expectations \n"
     ]
    }
   ],
   "source": [
    "#Q17) Those who have high CGPA & More experience in language those who had high expectations for salary(Avg)\n",
    "sns.scatterplot(x='Experience with python (Months)', y='Expected salary (Lac)', data=high_values)\n",
    "plt.xlabel('Experience with python (Months)')\n",
    "plt.ylabel('Expected salary (Lac)')\n",
    "plt.title('Experience with python (Months) vs. Expected salary (Lac)')\n",
    "\n",
    "plt.show()\n",
    "print(\"In the above graph it seems that those with high Experience with python (Months) have high salary expectations \")"
   ]
  },
  {
   "cell_type": "code",
   "execution_count": 26,
   "id": "877151d9",
   "metadata": {},
   "outputs": [
    {
     "name": "stdout",
     "output_type": "stream",
     "text": [
      "     First Name         Email ID  Quantity   \n",
      "356        Amey     amey@xyz.com         1  \\\n",
      "357       Kiran    kiran@xyz.com         1   \n",
      "362     Shubham  shubham@xyz.com         1   \n",
      "365      Akshay   akshay@xyz.com         1   \n",
      "368         Abu      abu@xyz.com         1   \n",
      "...         ...              ...       ...   \n",
      "4567      Monte    monte@xyz.com         1   \n",
      "4571       Wade     wade@xyz.com         1   \n",
      "4579      Mazie    mazie@xyz.com         1   \n",
      "4583     Bonita   bonita@xyz.com         1   \n",
      "4682    Gaikwad  gaikwad@xyz.com         1   \n",
      "\n",
      "                                   Events Attendee Status   \n",
      "356     Data Visualization using Power BI       Attending  \\\n",
      "357     Data Visualization using Power BI       Attending   \n",
      "362     Data Visualization using Power BI       Attending   \n",
      "365     Data Visualization using Power BI       Attending   \n",
      "368     Data Visualization using Power BI       Attending   \n",
      "...                                   ...             ...   \n",
      "4567          Product Design & Full Stack       Attending   \n",
      "4571          Product Design & Full Stack       Attending   \n",
      "4579          Product Design & Full Stack       Attending   \n",
      "4583          Product Design & Full Stack       Attending   \n",
      "4682  Skill and Employability Enhancement       Attending   \n",
      "\n",
      "                                           College Name   \n",
      "356   chhattisgarh swami vivekananda technical unive...  \\\n",
      "357                   adhiyamaan college of engineering   \n",
      "362   kle society's college of bca, rls institute, b...   \n",
      "365   b. k. birla college of arts, science & commerc...   \n",
      "368      ld college of engineering, ahmedabad, gujarat    \n",
      "...                                                 ...   \n",
      "4567       don bosco college of engineering fatorda goa   \n",
      "4571  kle society's college of bca, rls institute, b...   \n",
      "4579  dkte society's textile and engineering institu...   \n",
      "4583      priyadarshini college of engineering, nagpur    \n",
      "4682           pillai college of engineering new panvel   \n",
      "\n",
      "     How did you come to know about this event?   \n",
      "356             Email | SPOC/ College Professor  \\\n",
      "357                     SPOC/ College Professor   \n",
      "362                     SPOC/ College Professor   \n",
      "365             Email | SPOC/ College Professor   \n",
      "368                     SPOC/ College Professor   \n",
      "...                                         ...   \n",
      "4567                    SPOC/ College Professor   \n",
      "4571                    SPOC/ College Professor   \n",
      "4579                    SPOC/ College Professor   \n",
      "4583                    SPOC/ College Professor   \n",
      "4682                    SPOC/ College Professor   \n",
      "\n",
      "     Specify in \"Others\" (how did you come to know about this event)   \n",
      "356                                                 NaN               \\\n",
      "357                                                 NaN                \n",
      "362                                                 NaN                \n",
      "365                                                 NaN                \n",
      "368                                                 NaN                \n",
      "...                                                 ...                \n",
      "4567                                                NaN                \n",
      "4571                                                NaN                \n",
      "4579                                                NaN                \n",
      "4583                                                NaN                \n",
      "4682                                                NaN                \n",
      "\n",
      "     Designation  Year of Graduation         City  CGPA   \n",
      "356     Students                2025      Kolkata   6.9  \\\n",
      "357     Students                2025      Palashi   8.3   \n",
      "362     Students                2024        Sagar   7.3   \n",
      "365     Students                2025      Vidisha   8.0   \n",
      "368     Students                2025  Navi Mumbai   7.8   \n",
      "...          ...                 ...          ...   ...   \n",
      "4567    Students                2025         Doda   7.8   \n",
      "4571    Students                2023       Mysuru   7.8   \n",
      "4579    Students                2024       Mumbai   7.5   \n",
      "4583    Students                2025        Vasai   6.8   \n",
      "4682    Students                2023      Kolkata   8.3   \n",
      "\n",
      "      Experience with python (Months) Family Income  Expected salary (Lac)   \n",
      "356                                 5        100000                      9  \\\n",
      "357                                 5        100000                     17   \n",
      "362                                 4        100000                      7   \n",
      "365                                 3        100000                     25   \n",
      "368                                 5        100000                     10   \n",
      "...                               ...           ...                    ...   \n",
      "4567                                8        100000                      9   \n",
      "4571                                3        100000                     18   \n",
      "4579                                6        100000                     19   \n",
      "4583                                8        100000                      7   \n",
      "4682                                5        100000                      9   \n",
      "\n",
      "     Leadership- skills  \n",
      "356                  no  \n",
      "357                 yes  \n",
      "362                 yes  \n",
      "365                  no  \n",
      "368                  no  \n",
      "...                 ...  \n",
      "4567                 no  \n",
      "4571                 no  \n",
      "4579                 no  \n",
      "4583                 no  \n",
      "4682                 no  \n",
      "\n",
      "[434 rows x 16 columns]\n",
      "total number of students know about these events from there colleges are: 434 \n",
      " out of these top 5 colleges are:\n",
      "                                         College Name  Count\n",
      "0        vidyalankar institute of technology, mumbai     23\n",
      "2                 mit academy of engineering ,alandi     23\n",
      "1  kle society's college of bca, rls institute, b...     23\n",
      "3     ld college of engineering, ahmedabad, gujarat      20\n",
      "4      priyadarshini college of engineering, nagpur      20\n"
     ]
    }
   ],
   "source": [
    "#Q18) How many students know about these events from there colleges? Which of these top 5 colleges?\n",
    "top5=rslt_df[rslt_df['How did you come to know about this event?'].str.contains('College Professor', case=False, na=False)]\n",
    "\n",
    "# Group by 'College Name' and count occurrences\n",
    "top = top5['College Name'].value_counts().reset_index()\n",
    "\n",
    "# Rename the columns\n",
    "top.columns = ['College Name', 'Count']\n",
    "\n",
    "# Sort by count in descending order\n",
    "top = top.sort_values(by='Count', ascending=False)\n",
    "\n",
    "# Get the top 5 colleges\n",
    "\n",
    "print(\"total number of students know about these events from there colleges are:\",len(top5),\"\\n out of these top 5 colleges are:\\n\",top.head(5))\n",
    "\n",
    "\n"
   ]
  }
 ],
 "metadata": {
  "kernelspec": {
   "display_name": "Python 3 (ipykernel)",
   "language": "python",
   "name": "python3"
  },
  "language_info": {
   "codemirror_mode": {
    "name": "ipython",
    "version": 3
   },
   "file_extension": ".py",
   "mimetype": "text/x-python",
   "name": "python",
   "nbconvert_exporter": "python",
   "pygments_lexer": "ipython3",
   "version": "3.11.3"
  }
 },
 "nbformat": 4,
 "nbformat_minor": 5
}
